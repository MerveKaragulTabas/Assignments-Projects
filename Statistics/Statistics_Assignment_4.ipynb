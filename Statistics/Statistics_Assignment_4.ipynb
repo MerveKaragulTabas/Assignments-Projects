{
  "nbformat": 4,
  "nbformat_minor": 5,
  "metadata": {
    "kernelspec": {
      "display_name": "Python 3",
      "language": "python",
      "name": "python3"
    },
    "language_info": {
      "codemirror_mode": {
        "name": "ipython",
        "version": 3
      },
      "file_extension": ".py",
      "mimetype": "text/x-python",
      "name": "python",
      "nbconvert_exporter": "python",
      "pygments_lexer": "ipython3",
      "version": "3.8.8"
    },
    "colab": {
      "name": "Statistics_Assignment_4.ipynb",
      "provenance": [],
      "collapsed_sections": [],
      "include_colab_link": true
    }
  },
  "cells": [
    {
      "cell_type": "markdown",
      "metadata": {
        "id": "view-in-github",
        "colab_type": "text"
      },
      "source": [
        "<a href=\"https://colab.research.google.com/github/MerveKaragulTabas/Projeler/blob/main/Statistics_Assignment_4.ipynb\" target=\"_parent\"><img src=\"https://colab.research.google.com/assets/colab-badge.svg\" alt=\"Open In Colab\"/></a>"
      ]
    },
    {
      "cell_type": "code",
      "metadata": {
        "id": "8946dd70"
      },
      "source": [
        "import numpy as np\n",
        "import pandas as pd\n",
        "from scipy import stats\n",
        "import matplotlib.pyplot as plt"
      ],
      "id": "8946dd70",
      "execution_count": null,
      "outputs": []
    },
    {
      "cell_type": "markdown",
      "metadata": {
        "id": "4d9ab118"
      },
      "source": [
        "EXERCISE 1. \n",
        "    Answer the following questions by looking at the distribution table or coding with Python.\n",
        "    1. A salesperson has found that the probability of a sale on a single contact is approximately .03. If the salesperson contacts 100 prospects, what is the approximate probability of making at least one sale? (Wackerly, Ex.3.135)"
      ],
      "id": "4d9ab118"
    },
    {
      "cell_type": "code",
      "metadata": {
        "scrolled": false,
        "id": "485794d6"
      },
      "source": [
        "n= 100\n",
        "p = 0.03\n",
        "x = 1"
      ],
      "id": "485794d6",
      "execution_count": null,
      "outputs": []
    },
    {
      "cell_type": "code",
      "metadata": {
        "colab": {
          "base_uri": "https://localhost:8080/"
        },
        "id": "6fe11f02",
        "outputId": "677ba696-65d3-4b23-af21-3c553aca8d57"
      },
      "source": [
        "stats.binom.pmf(x, n, p)"
      ],
      "id": "6fe11f02",
      "execution_count": null,
      "outputs": [
        {
          "output_type": "execute_result",
          "data": {
            "text/plain": [
              "0.14706961214042732"
            ]
          },
          "metadata": {},
          "execution_count": 4
        }
      ]
    },
    {
      "cell_type": "markdown",
      "metadata": {
        "id": "f440c61d"
      },
      "source": [
        "2. Ten coins are tossed simultaneously. Find the probability of getting;"
      ],
      "id": "f440c61d"
    },
    {
      "cell_type": "code",
      "metadata": {
        "id": "6f4fdf52"
      },
      "source": [
        "i = 7\n",
        "p = 0.5"
      ],
      "id": "6f4fdf52",
      "execution_count": null,
      "outputs": []
    },
    {
      "cell_type": "markdown",
      "metadata": {
        "id": "0118e6bc"
      },
      "source": [
        "(i) at least seven heads :"
      ],
      "id": "0118e6bc"
    },
    {
      "cell_type": "code",
      "metadata": {
        "id": "d4beb63d"
      },
      "source": [
        "n1 = 10"
      ],
      "id": "d4beb63d",
      "execution_count": null,
      "outputs": []
    },
    {
      "cell_type": "code",
      "metadata": {
        "colab": {
          "base_uri": "https://localhost:8080/"
        },
        "id": "574dd270",
        "outputId": "11b8153d-6004-4b0a-ced8-591c36abfeb8"
      },
      "source": [
        "1 - stats.binom.cdf(i-1, n1, p)"
      ],
      "id": "574dd270",
      "execution_count": null,
      "outputs": [
        {
          "output_type": "execute_result",
          "data": {
            "text/plain": [
              "0.171875"
            ]
          },
          "metadata": {},
          "execution_count": 7
        }
      ]
    },
    {
      "cell_type": "markdown",
      "metadata": {
        "id": "c6448913"
      },
      "source": [
        "(ii) exactly seven heads :"
      ],
      "id": "c6448913"
    },
    {
      "cell_type": "code",
      "metadata": {
        "colab": {
          "base_uri": "https://localhost:8080/"
        },
        "id": "251f673b",
        "outputId": "19ca4d5f-5784-44f3-e1c5-52df71ab02db"
      },
      "source": [
        "stats.binom.pmf(i, n1, p)"
      ],
      "id": "251f673b",
      "execution_count": null,
      "outputs": [
        {
          "output_type": "execute_result",
          "data": {
            "text/plain": [
              "0.11718750000000014"
            ]
          },
          "metadata": {},
          "execution_count": 8
        }
      ]
    },
    {
      "cell_type": "markdown",
      "metadata": {
        "id": "c95deb83"
      },
      "source": [
        "(iii)at most seven heads :"
      ],
      "id": "c95deb83"
    },
    {
      "cell_type": "code",
      "metadata": {
        "colab": {
          "base_uri": "https://localhost:8080/"
        },
        "id": "c3ef7da6",
        "outputId": "38520069-600c-4050-85c8-b578cb5e7d28"
      },
      "source": [
        "stats.binom.cdf(i, n1, p)"
      ],
      "id": "c3ef7da6",
      "execution_count": null,
      "outputs": [
        {
          "output_type": "execute_result",
          "data": {
            "text/plain": [
              "0.9453125"
            ]
          },
          "metadata": {},
          "execution_count": 9
        }
      ]
    },
    {
      "cell_type": "markdown",
      "metadata": {
        "id": "576016b3"
      },
      "source": [
        "EXERCISE 2. \n",
        "The cycle time for trucks hauling concrete to a highway construction site is uniformly distributed over the interval 50 to 70 minutes. What is the probability that the cycle time exceeds 65 minutes  if it is known that the cycle time exceeds 55 minutes? (Wackerly, Ex.4.51)"
      ],
      "id": "576016b3"
    },
    {
      "cell_type": "code",
      "metadata": {
        "id": "6ddd118d"
      },
      "source": [
        "q1 = 50\n",
        "q3 = 70\n",
        "p1 = 55\n",
        "p2 = 65\n"
      ],
      "id": "6ddd118d",
      "execution_count": null,
      "outputs": []
    },
    {
      "cell_type": "code",
      "metadata": {
        "colab": {
          "base_uri": "https://localhost:8080/"
        },
        "id": "4e5d5731",
        "outputId": "3d327225-5de9-4197-f805-fe18cec3ddb5"
      },
      "source": [
        "(1-stats.uniform.cdf(p2, q1, q3-q1)) / (1-stats.uniform.cdf(p1, q1 , q3-q1))"
      ],
      "id": "4e5d5731",
      "execution_count": null,
      "outputs": [
        {
          "output_type": "execute_result",
          "data": {
            "text/plain": [
              "0.3333333333333333"
            ]
          },
          "metadata": {},
          "execution_count": 11
        }
      ]
    },
    {
      "cell_type": "markdown",
      "metadata": {
        "id": "6e59cfa1"
      },
      "source": [
        "EXERCISE 3. \n",
        "The width of bolts of fabric is normally distributed with mean 950 mm (millimeters) and standard deviation 10 mm.\n",
        "What is the probability that a randomly chosen bolt has a width of between 947 and 958mm?\n",
        "What is the appropriate value for C such that a randomly chosen bolt has a width less than C with probability .8531? (Wackerly, Ex.4.73)\n"
      ],
      "id": "6e59cfa1"
    },
    {
      "cell_type": "code",
      "metadata": {
        "id": "2e71f342"
      },
      "source": [
        "m1 = 950\n",
        "std = 10\n",
        "x1 = 947\n",
        "x2 = 958"
      ],
      "id": "2e71f342",
      "execution_count": null,
      "outputs": []
    },
    {
      "cell_type": "code",
      "metadata": {
        "colab": {
          "base_uri": "https://localhost:8080/"
        },
        "id": "14c93b7f",
        "outputId": "5ad73cf7-0e54-4695-e6f0-fd96bfa56584"
      },
      "source": [
        "stats.norm.cdf(x2, m1, std) - stats.norm.cdf(x1, m1, std)"
      ],
      "id": "14c93b7f",
      "execution_count": null,
      "outputs": [
        {
          "output_type": "execute_result",
          "data": {
            "text/plain": [
              "0.406056023605556"
            ]
          },
          "metadata": {},
          "execution_count": 13
        }
      ]
    },
    {
      "cell_type": "code",
      "metadata": {
        "id": "00c58bbc"
      },
      "source": [
        "p2 = 0.8531"
      ],
      "id": "00c58bbc",
      "execution_count": null,
      "outputs": []
    },
    {
      "cell_type": "code",
      "metadata": {
        "colab": {
          "base_uri": "https://localhost:8080/"
        },
        "id": "bb629021",
        "outputId": "7abad884-a405-42c9-f92e-c942fca5684b"
      },
      "source": [
        "stats.norm.ppf(p2, m1, 10)"
      ],
      "id": "bb629021",
      "execution_count": null,
      "outputs": [
        {
          "output_type": "execute_result",
          "data": {
            "text/plain": [
              "960.4982190962642"
            ]
          },
          "metadata": {},
          "execution_count": 15
        }
      ]
    },
    {
      "cell_type": "markdown",
      "metadata": {
        "id": "f4ca6568"
      },
      "source": [
        "EXERCISE 4. \n",
        "Suppose scores on exams in statistics are normally distributed with an unknown population mean and a population standard deviation of 3 points. A random sample of 36 scores is taken and gives a sample mean (sample mean score) of 68. Find a confidence interval estimate for the population mean exam score (the mean score on all exams). Find a 90% confidence interval for the true (population) mean of statistics exam scores.\n"
      ],
      "id": "f4ca6568"
    },
    {
      "cell_type": "code",
      "metadata": {
        "id": "e9c91146"
      },
      "source": [
        "n4 = 36\n",
        "mean4 = 68\n",
        "std4 = 3\n",
        "ci4 = 0.90"
      ],
      "id": "e9c91146",
      "execution_count": null,
      "outputs": []
    },
    {
      "cell_type": "code",
      "metadata": {
        "colab": {
          "base_uri": "https://localhost:8080/"
        },
        "id": "9d904d12",
        "outputId": "d3fc1a82-0789-484f-95ad-6108e25b554f"
      },
      "source": [
        "sem4 = std4 / np.sqrt(n4)\n",
        "sem4"
      ],
      "id": "9d904d12",
      "execution_count": null,
      "outputs": [
        {
          "output_type": "execute_result",
          "data": {
            "text/plain": [
              "0.5"
            ]
          },
          "metadata": {},
          "execution_count": 17
        }
      ]
    },
    {
      "cell_type": "code",
      "metadata": {
        "colab": {
          "base_uri": "https://localhost:8080/"
        },
        "id": "1d3da0ab",
        "outputId": "161b4bc2-a532-4949-eb69-0a5f98a8cff3"
      },
      "source": [
        "stats.norm.interval(ci4, mean4, sem4)"
      ],
      "id": "1d3da0ab",
      "execution_count": null,
      "outputs": [
        {
          "output_type": "execute_result",
          "data": {
            "text/plain": [
              "(67.17757318652427, 68.82242681347573)"
            ]
          },
          "metadata": {},
          "execution_count": 18
        }
      ]
    },
    {
      "cell_type": "markdown",
      "metadata": {
        "id": "0096c453"
      },
      "source": [
        "EXERCISE 5.  \n",
        "What is the normal body temperature for healthy humans? A random sample of 130 healthy human body temperatures provided by Allen Shoemaker yielded 98.25 degrees and standard deviation 0.73 degrees.\n",
        "Give a 99% confidence interval for the average body temperature of healthy people.\n",
        "Does the confidence interval obtained in part (a) contain the value 98.6 degrees, the accepted average temperature cited by physicians and others? What conclusions can you draw? (Wackerly, Ex.8.60)\n",
        "\n",
        "\n",
        "Source: Wackerly, D., Mendenhall, W., & Scheaffer, R. L. (2014). Mathematical statistics with applications. Cengage Learning.\n"
      ],
      "id": "0096c453"
    },
    {
      "cell_type": "code",
      "metadata": {
        "id": "bc8dd7ee"
      },
      "source": [
        "n5 = 130\n",
        "mean5 = 98.25\n",
        "std5 = 0.73\n",
        "ci5 = 0.99"
      ],
      "id": "bc8dd7ee",
      "execution_count": null,
      "outputs": []
    },
    {
      "cell_type": "code",
      "metadata": {
        "id": "f7c8dc3c"
      },
      "source": [
        "sem5 = std5 / np.sqrt(n5)"
      ],
      "id": "f7c8dc3c",
      "execution_count": null,
      "outputs": []
    },
    {
      "cell_type": "code",
      "metadata": {
        "colab": {
          "base_uri": "https://localhost:8080/"
        },
        "id": "a5db8e8e",
        "outputId": "85b44526-f9dd-42a5-b6cc-2896024a7a8b"
      },
      "source": [
        "stats.norm.interval(ci5, mean5, sem5 )"
      ],
      "id": "a5db8e8e",
      "execution_count": null,
      "outputs": [
        {
          "output_type": "execute_result",
          "data": {
            "text/plain": [
              "(98.08508192246582, 98.41491807753418)"
            ]
          },
          "metadata": {},
          "execution_count": 21
        }
      ]
    }
  ]
}